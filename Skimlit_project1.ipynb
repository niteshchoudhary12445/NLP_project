{
 "cells": [
  {
   "cell_type": "code",
   "execution_count": 1,
   "metadata": {},
   "outputs": [],
   "source": [
    "# !git clone https://github.com/Franck-Dernoncourt/pubmed-rct.git\n",
    "# !ls pubmed-rct"
   ]
  },
  {
   "cell_type": "code",
   "execution_count": 2,
   "metadata": {
    "executionInfo": {
     "elapsed": 742,
     "status": "ok",
     "timestamp": 1723645228058,
     "user": {
      "displayName": "Nitesh Choudhary",
      "userId": "16792016180888350992"
     },
     "user_tz": 420
    },
    "id": "RP3AHbp5EQAu"
   },
   "outputs": [],
   "source": [
    "# from zipfile import ZipFile\n",
    "\n",
    "# zip_ref = ZipFile(\"/content/pubmed-rct/PubMed_20k_RCT_numbers_replaced_with_at_sign/train.zip\")\n",
    "# zip_ref.extractall()\n",
    "# zip_ref.close()"
   ]
  },
  {
   "cell_type": "code",
   "execution_count": 3,
   "metadata": {
    "executionInfo": {
     "elapsed": 4,
     "status": "ok",
     "timestamp": 1723645228059,
     "user": {
      "displayName": "Nitesh Choudhary",
      "userId": "16792016180888350992"
     },
     "user_tz": 420
    },
    "id": "fFrFeTeYDvGc"
   },
   "outputs": [],
   "source": [
    "def read_text_file(filename):\n",
    "  \"\"\"This function read the text file\"\"\"\n",
    "  with open(filename,\"rb\") as file:\n",
    "    data = file.readlines()\n",
    "  return data\n"
   ]
  },
  {
   "cell_type": "code",
   "execution_count": 4,
   "metadata": {
    "executionInfo": {
     "elapsed": 4,
     "status": "ok",
     "timestamp": 1723645228059,
     "user": {
      "displayName": "Nitesh Choudhary",
      "userId": "16792016180888350992"
     },
     "user_tz": 420
    },
    "id": "OTfEvl2ZGRnR"
   },
   "outputs": [],
   "source": [
    "train_data = read_text_file(\"E:/Volume E/NLP_project\\pubmed-rct/PubMed_20k_RCT_numbers_replaced_with_at_sign/train.txt\")\n",
    "val_data = read_text_file(\"E:/Volume E/NLP_project\\pubmed-rct/PubMed_20k_RCT_numbers_replaced_with_at_sign/dev.txt\")\n",
    "test_data = read_text_file(\"E:/Volume E/NLP_project\\pubmed-rct/PubMed_20k_RCT_numbers_replaced_with_at_sign/test.txt\")"
   ]
  },
  {
   "cell_type": "code",
   "execution_count": 5,
   "metadata": {
    "executionInfo": {
     "elapsed": 3,
     "status": "ok",
     "timestamp": 1723645228059,
     "user": {
      "displayName": "Nitesh Choudhary",
      "userId": "16792016180888350992"
     },
     "user_tz": 420
    },
    "id": "Qku5-hgpNMI1"
   },
   "outputs": [],
   "source": [
    "def decode_and_clean_text(data):\n",
    "    \"\"\"\n",
    "    Decode a byte string to a UTF-8 string and remove unwanted lines.\n",
    "\n",
    "    Parameters:\n",
    "    byte_data (bytes): Byte string to decode and clean.\n",
    "\n",
    "    Returns:\n",
    "    str or None: Cleaned string or None if the string should be excluded.\n",
    "    \"\"\"\n",
    "    if isinstance(data, bytes):\n",
    "        # Decode the byte string to a regular string\n",
    "        decoded_string = data.decode(\"utf-8\")\n",
    "        # Remove lines starting with '###' and empty lines\n",
    "        if decoded_string.startswith(\"###\") or decoded_string.strip() == \"\":\n",
    "            return None\n",
    "        return decoded_string.strip()\n",
    "    return data\n",
    "\n",
    "def preprocess_and_format_data(data_list):\n",
    "    \"\"\"\n",
    "    Process and format a list of byte strings into a list of dictionaries.\n",
    "\n",
    "    Parameters:\n",
    "    byte_data_list (list of bytes): List of byte strings to process.\n",
    "\n",
    "    Returns:\n",
    "    list of dict: List of dictionaries with 'target' and 'text' keys.\n",
    "    \"\"\"\n",
    "    # Clean the byte strings using decode_and_clean_text\n",
    "    cleaned_texts = [decode_and_clean_text(text) for text in data_list if decode_and_clean_text(text) is not None]\n",
    "\n",
    "    formatted_data = []\n",
    "    for sentence in cleaned_texts:\n",
    "        # Split the cleaned text by tab and handle potential issues\n",
    "        parts = sentence.strip().split(\"\\t\")\n",
    "        if len(parts) == 2:  # Ensure there are exactly two parts\n",
    "            formatted_data.append({\n",
    "                \"target\": parts[0],\n",
    "                \"text\": parts[1]\n",
    "            })\n",
    "\n",
    "    return formatted_data\n"
   ]
  },
  {
   "cell_type": "code",
   "execution_count": 6,
   "metadata": {
    "executionInfo": {
     "elapsed": 617,
     "status": "ok",
     "timestamp": 1723645228673,
     "user": {
      "displayName": "Nitesh Choudhary",
      "userId": "16792016180888350992"
     },
     "user_tz": 420
    },
    "id": "fSxsY2QdNeGh"
   },
   "outputs": [],
   "source": [
    "train_dataset = preprocess_and_format_data(train_data)\n",
    "val_dataset = preprocess_and_format_data(val_data)\n",
    "test_dataset = preprocess_and_format_data(test_data)"
   ]
  },
  {
   "cell_type": "code",
   "execution_count": 7,
   "metadata": {
    "colab": {
     "base_uri": "https://localhost:8080/"
    },
    "executionInfo": {
     "elapsed": 29,
     "status": "ok",
     "timestamp": 1723645230264,
     "user": {
      "displayName": "Nitesh Choudhary",
      "userId": "16792016180888350992"
     },
     "user_tz": 420
    },
    "id": "OuxL1pquQFVs",
    "outputId": "e6a3e3bd-f144-4712-f8a1-312dc9805128"
   },
   "outputs": [
    {
     "name": "stdout",
     "output_type": "stream",
     "text": [
      "Training dataset:\n",
      " [{'target': 'OBJECTIVE', 'text': 'To investigate the efficacy of @ weeks of daily low-dose oral prednisolone in improving pain , mobility , and systemic low-grade inflammation in the short term and whether the effect would be sustained at @ weeks in older adults with moderate to severe knee osteoarthritis ( OA ) .'}]\n",
      "      \n",
      "Validation_dataset:\n",
      "[{'target': 'BACKGROUND', 'text': 'IgE sensitization to Aspergillus fumigatus and a positive sputum fungal culture result are common in patients with refractory asthma .'}]\n",
      "      \n",
      "Test_dataset:\n",
      "[{'target': 'BACKGROUND', 'text': 'This study analyzed liver function abnormalities in heart failure patients admitted with severe acute decompensated heart failure ( ADHF ) .'}]\n"
     ]
    }
   ],
   "source": [
    "print(f\"\"\"Training dataset:\\n {train_dataset[:1]}\n",
    "      \\nValidation_dataset:\\n{val_dataset[:1]}\n",
    "      \\nTest_dataset:\\n{test_dataset[:1]}\"\"\")"
   ]
  },
  {
   "cell_type": "code",
   "execution_count": 8,
   "metadata": {
    "executionInfo": {
     "elapsed": 28,
     "status": "ok",
     "timestamp": 1723645230264,
     "user": {
      "displayName": "Nitesh Choudhary",
      "userId": "16792016180888350992"
     },
     "user_tz": 420
    },
    "id": "lzKiVJmNXSXD"
   },
   "outputs": [],
   "source": [
    "import pandas as pd\n",
    "train_df = pd.DataFrame(train_dataset)\n",
    "val_df = pd.DataFrame(val_dataset)\n",
    "test_df = pd.DataFrame(test_dataset)"
   ]
  },
  {
   "cell_type": "code",
   "execution_count": 9,
   "metadata": {
    "executionInfo": {
     "elapsed": 29,
     "status": "ok",
     "timestamp": 1723645230265,
     "user": {
      "displayName": "Nitesh Choudhary",
      "userId": "16792016180888350992"
     },
     "user_tz": 420
    },
    "id": "BRTb1CqmZqxe"
   },
   "outputs": [],
   "source": [
    "# Extract features and targets from training, validation, and test DataFrames\n",
    "x_train,y_train = train_df[\"text\"].str.lower(),train_df[\"target\"]\n",
    "val_x_train,val_y_train = val_df[\"text\"].str.lower(),val_df[\"target\"]\n",
    "x_test,y_test = test_df[\"text\"].str.lower(),test_df[\"target\"]"
   ]
  },
  {
   "cell_type": "code",
   "execution_count": 10,
   "metadata": {
    "colab": {
     "base_uri": "https://localhost:8080/",
     "height": 397
    },
    "executionInfo": {
     "elapsed": 28,
     "status": "ok",
     "timestamp": 1723645230265,
     "user": {
      "displayName": "Nitesh Choudhary",
      "userId": "16792016180888350992"
     },
     "user_tz": 420
    },
    "id": "5wg_Fq-ihGF-",
    "outputId": "126d8a55-e965-4211-9815-30bfcfbaa922"
   },
   "outputs": [
    {
     "data": {
      "text/plain": [
       "0    to investigate the efficacy of @ weeks of dail...\n",
       "1    a total of @ patients with primary knee oa wer...\n",
       "2    outcome measures included pain reduction and i...\n",
       "3    pain was assessed using the visual analog pain...\n",
       "4    secondary outcome measures included the wester...\n",
       "5    serum levels of interleukin @ ( il-@ ) , il-@ ...\n",
       "6    there was a clinically relevant reduction in t...\n",
       "7    the mean difference between treatment arms ( @...\n",
       "8    further , there was a clinically relevant redu...\n",
       "9    these differences remained significant at @ we...\n",
       "Name: text, dtype: object"
      ]
     },
     "execution_count": 10,
     "metadata": {},
     "output_type": "execute_result"
    }
   ],
   "source": [
    "x_train[:10]"
   ]
  },
  {
   "cell_type": "code",
   "execution_count": 11,
   "metadata": {
    "colab": {
     "base_uri": "https://localhost:8080/"
    },
    "executionInfo": {
     "elapsed": 28,
     "status": "ok",
     "timestamp": 1723645230265,
     "user": {
      "displayName": "Nitesh Choudhary",
      "userId": "16792016180888350992"
     },
     "user_tz": 420
    },
    "id": "QPjbPoX7aiJq",
    "outputId": "71223bb3-c07a-46b6-adfa-97480b5ac508"
   },
   "outputs": [
    {
     "data": {
      "text/plain": [
       "(target\n",
       " METHODS        59353\n",
       " RESULTS        57953\n",
       " CONCLUSIONS    27168\n",
       " BACKGROUND     21727\n",
       " OBJECTIVE      13839\n",
       " Name: count, dtype: int64,\n",
       " (180040,))"
      ]
     },
     "execution_count": 11,
     "metadata": {},
     "output_type": "execute_result"
    }
   ],
   "source": [
    "y_train.value_counts(),y_train.shape"
   ]
  },
  {
   "cell_type": "code",
   "execution_count": 12,
   "metadata": {
    "colab": {
     "base_uri": "https://localhost:8080/",
     "height": 489
    },
    "executionInfo": {
     "elapsed": 25,
     "status": "ok",
     "timestamp": 1723645230265,
     "user": {
      "displayName": "Nitesh Choudhary",
      "userId": "16792016180888350992"
     },
     "user_tz": 420
    },
    "id": "n7SrpJclbc8n",
    "outputId": "543ef46e-5b10-4f68-b358-ab1ee750e531"
   },
   "outputs": [
    {
     "data": {
      "text/plain": [
       "Text(0.5, 1.0, 'Distribution of Categories')"
      ]
     },
     "execution_count": 12,
     "metadata": {},
     "output_type": "execute_result"
    },
    {
     "data": {
      "image/png": "[encoded data removed]",
      "text/plain": [
       "<Figure size 640x480 with 1 Axes>"
      ]
     },
     "metadata": {},
     "output_type": "display_data"
    }
   ],
   "source": [
    "import matplotlib.pyplot as plt\n",
    "from collections import Counter\n",
    "\n",
    "counts = Counter(y_train)\n",
    "categories, frequency = zip(*counts.items())\n",
    "plt.bar(categories,frequency)\n",
    "plt.xlabel(\"Categories\")\n",
    "plt.ylabel(\"Frequency\")\n",
    "plt.title(\"Distribution of Categories\")\n"
   ]
  },
  {
   "cell_type": "code",
   "execution_count": 13,
   "metadata": {
    "executionInfo": {
     "elapsed": 20,
     "status": "ok",
     "timestamp": 1723645230266,
     "user": {
      "displayName": "Nitesh Choudhary",
      "userId": "16792016180888350992"
     },
     "user_tz": 420
    },
    "id": "MLXWMkDbfPkV"
   },
   "outputs": [],
   "source": [
    "from sklearn.preprocessing import LabelEncoder\n",
    "\n",
    "label_encoder = LabelEncoder()\n",
    "train_labels = label_encoder.fit_transform(y_train.to_numpy())\n",
    "val_labels = label_encoder.transform(val_y_train.to_numpy())\n",
    "test_labels = label_encoder.transform(y_test.to_numpy())"
   ]
  },
  {
   "cell_type": "code",
   "execution_count": 14,
   "metadata": {
    "colab": {
     "base_uri": "https://localhost:8080/"
    },
    "executionInfo": {
     "elapsed": 20,
     "status": "ok",
     "timestamp": 1723645230266,
     "user": {
      "displayName": "Nitesh Choudhary",
      "userId": "16792016180888350992"
     },
     "user_tz": 420
    },
    "id": "mV-cIOxlMuUJ",
    "outputId": "96404c6e-42db-4dd1-a0a0-3308f9bdac99"
   },
   "outputs": [],
   "source": [
    "from sklearn.preprocessing import OneHotEncoder\n",
    "one_hot_encoder = OneHotEncoder(sparse_output=False)\n",
    "train_labels_one_hot = one_hot_encoder.fit_transform(train_df[\"target\"].to_numpy().reshape(-1, 1))\n",
    "val_labels_one_hot = one_hot_encoder.transform(val_df[\"target\"].to_numpy().reshape(-1, 1))\n",
    "test_labels_one_hot = one_hot_encoder.transform(test_df[\"target\"].to_numpy().reshape(-1, 1))"
   ]
  },
  {
   "cell_type": "code",
   "execution_count": 15,
   "metadata": {
    "colab": {
     "base_uri": "https://localhost:8080/"
    },
    "executionInfo": {
     "elapsed": 18,
     "status": "ok",
     "timestamp": 1723645230266,
     "user": {
      "displayName": "Nitesh Choudhary",
      "userId": "16792016180888350992"
     },
     "user_tz": 420
    },
    "id": "GB8n7HuHNRYf",
    "outputId": "81053874-c6ea-47be-d057-f7e6800567a3"
   },
   "outputs": [
    {
     "data": {
      "text/plain": [
       "(180040, 5)"
      ]
     },
     "execution_count": 15,
     "metadata": {},
     "output_type": "execute_result"
    }
   ],
   "source": [
    "train_labels_one_hot.shape"
   ]
  },
  {
   "cell_type": "code",
   "execution_count": 16,
   "metadata": {
    "colab": {
     "base_uri": "https://localhost:8080/"
    },
    "executionInfo": {
     "elapsed": 17,
     "status": "ok",
     "timestamp": 1723645230266,
     "user": {
      "displayName": "Nitesh Choudhary",
      "userId": "16792016180888350992"
     },
     "user_tz": 420
    },
    "id": "A_jiTB1jlFdN",
    "outputId": "6cc7cb33-4d20-47fb-dcdd-e42b39d57b38"
   },
   "outputs": [
    {
     "data": {
      "text/plain": [
       "array(['BACKGROUND', 'CONCLUSIONS', 'METHODS', 'OBJECTIVE', 'RESULTS'],\n",
       "      dtype=object)"
      ]
     },
     "execution_count": 16,
     "metadata": {},
     "output_type": "execute_result"
    }
   ],
   "source": [
    "class_names = label_encoder.classes_\n",
    "class_names"
   ]
  },
  {
   "cell_type": "code",
   "execution_count": 17,
   "metadata": {
    "executionInfo": {
     "elapsed": 16,
     "status": "ok",
     "timestamp": 1723645230266,
     "user": {
      "displayName": "Nitesh Choudhary",
      "userId": "16792016180888350992"
     },
     "user_tz": 420
    },
    "id": "CoC9tMh-lQj-"
   },
   "outputs": [],
   "source": [
    "from sklearn.metrics import accuracy_score,precision_recall_fscore_support\n",
    "def calculate_result(y_test,pred):\n",
    "  accuracy = accuracy_score(y_test,pred)*100\n",
    "  precision,recall,f1score,_=precision_recall_fscore_support(y_test,pred,average=\"weighted\")\n",
    "  model_result={\n",
    "      \"accuracy\":accuracy,\n",
    "      \"precision_score\":precision*100,\n",
    "      \"recall_score\":recall*100,\n",
    "      \"f1_score\":f1score*100\n",
    "  }\n",
    "  return model_result"
   ]
  },
  {
   "cell_type": "code",
   "execution_count": 18,
   "metadata": {
    "colab": {
     "base_uri": "https://localhost:8080/",
     "height": 534
    },
    "executionInfo": {
     "elapsed": 773,
     "status": "ok",
     "timestamp": 1723645231024,
     "user": {
      "displayName": "Nitesh Choudhary",
      "userId": "16792016180888350992"
     },
     "user_tz": 420
    },
    "id": "2du40UX-mAHQ",
    "outputId": "74c0355b-00a1-430e-bbc6-9bc41c4d7e83"
   },
   "outputs": [
    {
     "name": "stdout",
     "output_type": "stream",
     "text": [
      "149.3662574983337\n"
     ]
    },
    {
     "data": {
      "text/plain": [
       "(array([1.41175e+05, 3.71110e+04, 1.60000e+03, 1.27000e+02, 2.10000e+01,\n",
       "        5.00000e+00, 1.00000e+00]),\n",
       " array([1.00000000e+00, 1.98857143e+02, 3.96714286e+02, 5.94571429e+02,\n",
       "        7.92428571e+02, 9.90285714e+02, 1.18814286e+03, 1.38600000e+03]),\n",
       " <BarContainer object of 7 artists>)"
      ]
     },
     "execution_count": 18,
     "metadata": {},
     "output_type": "execute_result"
    },
    {
     "data": {
      "image/png": "[encoded data removed]",
      "text/plain": [
       "<Figure size 640x480 with 1 Axes>"
      ]
     },
     "metadata": {},
     "output_type": "display_data"
    }
   ],
   "source": [
    "import numpy as np\n",
    "# Average length of the character\n",
    "character_length = [len(sentence) for sentence in x_train]\n",
    "avg_length = np.mean(character_length)\n",
    "print(avg_length)\n",
    "plt.hist(character_length,bins=7)"
   ]
  },
  {
   "cell_type": "code",
   "execution_count": 19,
   "metadata": {
    "colab": {
     "base_uri": "https://localhost:8080/"
    },
    "executionInfo": {
     "elapsed": 6,
     "status": "ok",
     "timestamp": 1723645231024,
     "user": {
      "displayName": "Nitesh Choudhary",
      "userId": "16792016180888350992"
     },
     "user_tz": 420
    },
    "id": "Nh8-eW4LnUfR",
    "outputId": "4d02533c-88e1-4e79-f87b-5c6ddbdf8e17"
   },
   "outputs": [
    {
     "data": {
      "text/plain": [
       "290"
      ]
     },
     "execution_count": 19,
     "metadata": {},
     "output_type": "execute_result"
    }
   ],
   "source": [
    "output_char_length = int(np.percentile(character_length,95))\n",
    "output_char_length"
   ]
  },
  {
   "cell_type": "code",
   "execution_count": 20,
   "metadata": {
    "executionInfo": {
     "elapsed": 6,
     "status": "ok",
     "timestamp": 1723645231025,
     "user": {
      "displayName": "Nitesh Choudhary",
      "userId": "16792016180888350992"
     },
     "user_tz": 420
    },
    "id": "3379pTqan4Jw"
   },
   "outputs": [],
   "source": [
    "def split_char(text):\n",
    "  return \" \".join(list(text))"
   ]
  },
  {
   "cell_type": "code",
   "execution_count": 21,
   "metadata": {
    "executionInfo": {
     "elapsed": 573,
     "status": "ok",
     "timestamp": 1723645231592,
     "user": {
      "displayName": "Nitesh Choudhary",
      "userId": "16792016180888350992"
     },
     "user_tz": 420
    },
    "id": "0TAktwa640UV"
   },
   "outputs": [],
   "source": [
    "train_chars = [split_char(char) for char in x_train]\n",
    "val_chars = [split_char(char) for char in val_x_train]\n",
    "test_chars = [split_char(char) for char in x_test]"
   ]
  },
  {
   "cell_type": "code",
   "execution_count": 22,
   "metadata": {
    "colab": {
     "base_uri": "https://localhost:8080/",
     "height": 105
    },
    "executionInfo": {
     "elapsed": 12,
     "status": "ok",
     "timestamp": 1723645231593,
     "user": {
      "displayName": "Nitesh Choudhary",
      "userId": "16792016180888350992"
     },
     "user_tz": 420
    },
    "id": "oUiHSYi48akW",
    "outputId": "e20db885-7c95-4267-dce6-618ba6731beb"
   },
   "outputs": [
    {
     "data": {
      "text/plain": [
       "'t o   i n v e s t i g a t e   t h e   e f f i c a c y   o f   @   w e e k s   o f   d a i l y   l o w - d o s e   o r a l   p r e d n i s o l o n e   i n   i m p r o v i n g   p a i n   ,   m o b i l i t y   ,   a n d   s y s t e m i c   l o w - g r a d e   i n f l a m m a t i o n   i n   t h e   s h o r t   t e r m   a n d   w h e t h e r   t h e   e f f e c t   w o u l d   b e   s u s t a i n e d   a t   @   w e e k s   i n   o l d e r   a d u l t s   w i t h   m o d e r a t e   t o   s e v e r e   k n e e   o s t e o a r t h r i t i s   (   o a   )   .'"
      ]
     },
     "execution_count": 22,
     "metadata": {},
     "output_type": "execute_result"
    }
   ],
   "source": [
    "train_chars[0]"
   ]
  },
  {
   "cell_type": "code",
   "execution_count": 23,
   "metadata": {
    "executionInfo": {
     "elapsed": 1837,
     "status": "ok",
     "timestamp": 1723645426751,
     "user": {
      "displayName": "Nitesh Choudhary",
      "userId": "16792016180888350992"
     },
     "user_tz": 420
    },
    "id": "UWPGvXhTMRsQ"
   },
   "outputs": [],
   "source": [
    "import numpy as np\n",
    "\n",
    "train_chars = np.array(train_chars)\n",
    "x_train = np.array(x_train)\n",
    "val_chars = np.array(val_chars)\n",
    "val_x_train = np.array(val_x_train)\n"
   ]
  },
  {
   "cell_type": "code",
   "execution_count": 24,
   "metadata": {
    "executionInfo": {
     "elapsed": 2595,
     "status": "ok",
     "timestamp": 1723649478317,
     "user": {
      "displayName": "Nitesh Choudhary",
      "userId": "16792016180888350992"
     },
     "user_tz": 420
    },
    "id": "VIUl_nKwVdo3"
   },
   "outputs": [],
   "source": [
    "import tensorflow as tf\n",
    "train_dataset = tf.data.Dataset.from_tensor_slices(\n",
    "    ({\"char_inputs\": train_chars, \"token_inputs\": x_train}, train_labels_one_hot)\n",
    ")\n",
    "val_dataset = tf.data.Dataset.from_tensor_slices(\n",
    "    ({\"char_inputs\": val_chars, \"token_inputs\": val_x_train}, val_labels_one_hot)\n",
    ")\n",
    "\n",
    "# Shuffle and batch the training dataset\n",
    "train_dataset = train_dataset.shuffle(buffer_size=len(train_chars)).batch(32).prefetch(tf.data.AUTOTUNE)\n",
    "\n",
    "# Batch the validation dataset (no need to shuffle)\n",
    "val_dataset = val_dataset.batch(32).prefetch(tf.data.AUTOTUNE)"
   ]
  },
  {
   "cell_type": "code",
   "execution_count": 25,
   "metadata": {
    "colab": {
     "base_uri": "https://localhost:8080/",
     "height": 36
    },
    "executionInfo": {
     "elapsed": 11,
     "status": "ok",
     "timestamp": 1723645231593,
     "user": {
      "displayName": "Nitesh Choudhary",
      "userId": "16792016180888350992"
     },
     "user_tz": 420
    },
    "id": "eBvBT3da6mlf",
    "outputId": "a64a44cb-9858-44c9-d175-b1568990be05"
   },
   "outputs": [
    {
     "data": {
      "text/plain": [
       "'abcdefghijklmnopqrstuvwxyz0123456789!\"#$%&\\'()*+,-./:;<=>?@[\\\\]^_`{|}~'"
      ]
     },
     "execution_count": 25,
     "metadata": {},
     "output_type": "execute_result"
    }
   ],
   "source": [
    "# Get all keyboard characters for char-level embedding\n",
    "import string\n",
    "alphabet = string.ascii_lowercase + string.digits + string.punctuation\n",
    "alphabet"
   ]
  },
  {
   "cell_type": "code",
   "execution_count": 26,
   "metadata": {
    "executionInfo": {
     "elapsed": 10131,
     "status": "ok",
     "timestamp": 1723645241714,
     "user": {
      "displayName": "Nitesh Choudhary",
      "userId": "16792016180888350992"
     },
     "user_tz": 420
    },
    "id": "EmzuZZ847Z1M"
   },
   "outputs": [],
   "source": [
    "from tensorflow.keras.layers import TextVectorization\n",
    "\n",
    "NUM_CHAR_TOKENS = len(alphabet) + 2 \n",
    "char_vectorizer = TextVectorization(max_tokens=NUM_CHAR_TOKENS,\n",
    "                                    output_sequence_length=output_char_length,\n",
    "                                    name=\"vectorizer_layer\")\n",
    "\n",
    "# Adapt character vectorizer to training characters\n",
    "char_vectorizer.adapt(train_chars)"
   ]
  },
  {
   "cell_type": "code",
   "execution_count": 27,
   "metadata": {
    "executionInfo": {
     "elapsed": 16,
     "status": "ok",
     "timestamp": 1723645241714,
     "user": {
      "displayName": "Nitesh Choudhary",
      "userId": "16792016180888350992"
     },
     "user_tz": 420
    },
    "id": "eqGdXoMD8TMx"
   },
   "outputs": [],
   "source": [
    "char_vocab = char_vectorizer.get_vocabulary()"
   ]
  },
  {
   "cell_type": "code",
   "execution_count": 28,
   "metadata": {
    "executionInfo": {
     "elapsed": 16,
     "status": "ok",
     "timestamp": 1723645241715,
     "user": {
      "displayName": "Nitesh Choudhary",
      "userId": "16792016180888350992"
     },
     "user_tz": 420
    },
    "id": "-lddkODxBNv5"
   },
   "outputs": [],
   "source": [
    "import tensorflow as tf\n",
    "char_embed = tf.keras.layers.Embedding(input_dim=NUM_CHAR_TOKENS,\n",
    "                              output_dim=25, \n",
    "                              mask_zero=False, \n",
    "                              name=\"char_embedding_layerz\")\n"
   ]
  },
  {
   "cell_type": "code",
   "execution_count": 29,
   "metadata": {
    "executionInfo": {
     "elapsed": 5884,
     "status": "ok",
     "timestamp": 1723645247583,
     "user": {
      "displayName": "Nitesh Choudhary",
      "userId": "16792016180888350992"
     },
     "user_tz": 420
    },
    "id": "f3DNu430DkuT"
   },
   "outputs": [],
   "source": [
    "import tensorflow as tf\n",
    "from tensorflow.keras.layers import TextVectorization\n",
    "\n",
    "# TextVectorization layer\n",
    "token_vectorizer = TextVectorization(max_tokens=65000, output_sequence_length=55, name=\"token_vectorization_layer\")\n",
    "\n",
    "# Adapt the TextVectorization layer to the training data\n",
    "token_vectorizer.adapt(x_train)\n",
    "\n",
    "# Extract vocabulary from the token_vectorizer\n",
    "rct_20k_text_vocab = token_vectorizer.get_vocabulary()\n",
    "\n",
    "# Token embedding layer\n",
    "token_embed = tf.keras.layers.Embedding(input_dim=len(rct_20k_text_vocab), output_dim=128, name=\"token_embedding_layer\")\n"
   ]
  },
  {
   "cell_type": "code",
   "execution_count": 30,
   "metadata": {
    "executionInfo": {
     "elapsed": 1266,
     "status": "ok",
     "timestamp": 1723649598563,
     "user": {
      "displayName": "Nitesh Choudhary",
      "userId": "16792016180888350992"
     },
     "user_tz": 420
    },
    "id": "z7upyEGqFqt_"
   },
   "outputs": [],
   "source": [
    "import tensorflow as tf\n",
    "\n",
    "# Input layers\n",
    "char_inputs = tf.keras.layers.Input(shape=(1,), dtype=\"string\", name=\"char_inputs\")\n",
    "token_inputs = tf.keras.layers.Input(shape=(1,), dtype=\"string\", name=\"token_inputs\")\n",
    "\n",
    "# Character-level processing\n",
    "char_vectorize_layer = char_vectorizer(char_inputs)\n",
    "char_embedding_layer = char_embed(char_vectorize_layer)\n",
    "bidirection_layer = tf.keras.layers.Bidirectional(tf.keras.layers.LSTM(64))(char_embedding_layer)\n",
    "char_outputs = tf.keras.layers.Dense(128, activation=\"relu\")(bidirection_layer)\n",
    "\n",
    "# Add Dropout after char-level LSTM\n",
    "char_outputs = tf.keras.layers.Dropout(0.3)(char_outputs)\n",
    "\n",
    "# Expand char_outputs to match the sequence length of token_embedding_layer\n",
    "sequence_length = 55  # Assume this is the sequence length of the token-level processing\n",
    "\n",
    "# Create a tensor with the same sequence length as token_embedding_layer\n",
    "char_outputs_expanded = tf.keras.layers.RepeatVector(sequence_length)(char_outputs)\n",
    "\n",
    "# Token-level processing\n",
    "token_vectorize_layer = token_vectorizer(token_inputs)\n",
    "token_embedding_layer = token_embed(token_vectorize_layer)\n",
    "\n",
    "# Concatenate the embeddings\n",
    "combined_layer = tf.keras.layers.Concatenate(axis=-1)([char_outputs_expanded, token_embedding_layer])\n",
    "\n",
    "# Additional processing after concatenation\n",
    "bidirection_layer1 = tf.keras.layers.Bidirectional(tf.keras.layers.LSTM(64))(combined_layer)\n",
    "\n",
    "# Add Dropout after concatenation LSTM\n",
    "bidirection_layer1 = tf.keras.layers.Dropout(0.3)(bidirection_layer1)\n",
    "\n",
    "# Output layer with Dropout\n",
    "dense_layer = tf.keras.layers.Dense(128, activation=\"relu\")(bidirection_layer1)\n",
    "dense_layer = tf.keras.layers.Dropout(0.3)(dense_layer)\n",
    "\n",
    "output_layers = tf.keras.layers.Dense(len(class_names), activation=\"softmax\")(dense_layer)\n",
    "\n",
    "# Model definition\n",
    "model = tf.keras.Model(inputs=[char_inputs, token_inputs], outputs=output_layers)\n"
   ]
  },
  {
   "cell_type": "code",
   "execution_count": 31,
   "metadata": {
    "colab": {
     "base_uri": "https://localhost:8080/"
    },
    "executionInfo": {
     "elapsed": 609,
     "status": "ok",
     "timestamp": 1723645373507,
     "user": {
      "displayName": "Nitesh Choudhary",
      "userId": "16792016180888350992"
     },
     "user_tz": 420
    },
    "id": "CH6bNQRHKVZY",
    "outputId": "201b1b6e-c023-4d87-9cb1-d4e45f8b78e9"
   },
   "outputs": [
    {
     "data": {
      "text/html": [
       "<pre style=\"white-space:pre;overflow-x:auto;line-height:normal;font-family:Menlo,'DejaVu Sans Mono',consolas,'Courier New',monospace\"><span style=\"font-weight: bold\">Model: \"functional\"</span>\n",
       "</pre>\n"
      ],
      "text/plain": [
       "\u001b[1mModel: \"functional\"\u001b[0m\n"
      ]
     },
     "metadata": {},
     "output_type": "display_data"
    },
    {
     "data": {
      "text/html": [
       "<pre style=\"white-space:pre;overflow-x:auto;line-height:normal;font-family:Menlo,'DejaVu Sans Mono',consolas,'Courier New',monospace\">┏━━━━━━━━━━━━━━━━━━━┳━━━━━━━━━━━━━━━━━┳━━━━━━━━━━━┳━━━━━━━━━━━━━━━━━┓\n",
       "┃<span style=\"font-weight: bold\"> Layer (type)      </span>┃<span style=\"font-weight: bold\"> Output Shape    </span>┃<span style=\"font-weight: bold\">   Param # </span>┃<span style=\"font-weight: bold\"> Connected to    </span>┃\n",
       "┡━━━━━━━━━━━━━━━━━━━╇━━━━━━━━━━━━━━━━━╇━━━━━━━━━━━╇━━━━━━━━━━━━━━━━━┩\n",
       "│ char_inputs       │ (<span style=\"color: #00d7ff; text-decoration-color: #00d7ff\">None</span>, <span style=\"color: #00af00; text-decoration-color: #00af00\">1</span>)       │         <span style=\"color: #00af00; text-decoration-color: #00af00\">0</span> │ -               │\n",
       "│ (<span style=\"color: #0087ff; text-decoration-color: #0087ff\">InputLayer</span>)      │                 │           │                 │\n",
       "├───────────────────┼─────────────────┼───────────┼─────────────────┤\n",
       "│ vectorizer_layer  │ (<span style=\"color: #00d7ff; text-decoration-color: #00d7ff\">None</span>, <span style=\"color: #00af00; text-decoration-color: #00af00\">290</span>)     │         <span style=\"color: #00af00; text-decoration-color: #00af00\">0</span> │ char_inputs[<span style=\"color: #00af00; text-decoration-color: #00af00\">0</span>]… │\n",
       "│ (<span style=\"color: #0087ff; text-decoration-color: #0087ff\">TextVectorizati…</span> │                 │           │                 │\n",
       "├───────────────────┼─────────────────┼───────────┼─────────────────┤\n",
       "│ char_embedding_l… │ (<span style=\"color: #00d7ff; text-decoration-color: #00d7ff\">None</span>, <span style=\"color: #00af00; text-decoration-color: #00af00\">290</span>, <span style=\"color: #00af00; text-decoration-color: #00af00\">25</span>) │     <span style=\"color: #00af00; text-decoration-color: #00af00\">1,750</span> │ vectorizer_lay… │\n",
       "│ (<span style=\"color: #0087ff; text-decoration-color: #0087ff\">Embedding</span>)       │                 │           │                 │\n",
       "├───────────────────┼─────────────────┼───────────┼─────────────────┤\n",
       "│ bidirectional     │ (<span style=\"color: #00d7ff; text-decoration-color: #00d7ff\">None</span>, <span style=\"color: #00af00; text-decoration-color: #00af00\">128</span>)     │    <span style=\"color: #00af00; text-decoration-color: #00af00\">46,080</span> │ char_embedding… │\n",
       "│ (<span style=\"color: #0087ff; text-decoration-color: #0087ff\">Bidirectional</span>)   │                 │           │                 │\n",
       "├───────────────────┼─────────────────┼───────────┼─────────────────┤\n",
       "│ dense (<span style=\"color: #0087ff; text-decoration-color: #0087ff\">Dense</span>)     │ (<span style=\"color: #00d7ff; text-decoration-color: #00d7ff\">None</span>, <span style=\"color: #00af00; text-decoration-color: #00af00\">128</span>)     │    <span style=\"color: #00af00; text-decoration-color: #00af00\">16,512</span> │ bidirectional[<span style=\"color: #00af00; text-decoration-color: #00af00\">…</span> │\n",
       "├───────────────────┼─────────────────┼───────────┼─────────────────┤\n",
       "│ token_inputs      │ (<span style=\"color: #00d7ff; text-decoration-color: #00d7ff\">None</span>, <span style=\"color: #00af00; text-decoration-color: #00af00\">1</span>)       │         <span style=\"color: #00af00; text-decoration-color: #00af00\">0</span> │ -               │\n",
       "│ (<span style=\"color: #0087ff; text-decoration-color: #0087ff\">InputLayer</span>)      │                 │           │                 │\n",
       "├───────────────────┼─────────────────┼───────────┼─────────────────┤\n",
       "│ dropout (<span style=\"color: #0087ff; text-decoration-color: #0087ff\">Dropout</span>) │ (<span style=\"color: #00d7ff; text-decoration-color: #00d7ff\">None</span>, <span style=\"color: #00af00; text-decoration-color: #00af00\">128</span>)     │         <span style=\"color: #00af00; text-decoration-color: #00af00\">0</span> │ dense[<span style=\"color: #00af00; text-decoration-color: #00af00\">0</span>][<span style=\"color: #00af00; text-decoration-color: #00af00\">0</span>]     │\n",
       "├───────────────────┼─────────────────┼───────────┼─────────────────┤\n",
       "│ token_vectorizat… │ (<span style=\"color: #00d7ff; text-decoration-color: #00d7ff\">None</span>, <span style=\"color: #00af00; text-decoration-color: #00af00\">55</span>)      │         <span style=\"color: #00af00; text-decoration-color: #00af00\">0</span> │ token_inputs[<span style=\"color: #00af00; text-decoration-color: #00af00\">0</span>… │\n",
       "│ (<span style=\"color: #0087ff; text-decoration-color: #0087ff\">TextVectorizati…</span> │                 │           │                 │\n",
       "├───────────────────┼─────────────────┼───────────┼─────────────────┤\n",
       "│ repeat_vector     │ (<span style=\"color: #00d7ff; text-decoration-color: #00d7ff\">None</span>, <span style=\"color: #00af00; text-decoration-color: #00af00\">55</span>, <span style=\"color: #00af00; text-decoration-color: #00af00\">128</span>) │         <span style=\"color: #00af00; text-decoration-color: #00af00\">0</span> │ dropout[<span style=\"color: #00af00; text-decoration-color: #00af00\">0</span>][<span style=\"color: #00af00; text-decoration-color: #00af00\">0</span>]   │\n",
       "│ (<span style=\"color: #0087ff; text-decoration-color: #0087ff\">RepeatVector</span>)    │                 │           │                 │\n",
       "├───────────────────┼─────────────────┼───────────┼─────────────────┤\n",
       "│ token_embedding_… │ (<span style=\"color: #00d7ff; text-decoration-color: #00d7ff\">None</span>, <span style=\"color: #00af00; text-decoration-color: #00af00\">55</span>, <span style=\"color: #00af00; text-decoration-color: #00af00\">128</span>) │ <span style=\"color: #00af00; text-decoration-color: #00af00\">8,299,648</span> │ token_vectoriz… │\n",
       "│ (<span style=\"color: #0087ff; text-decoration-color: #0087ff\">Embedding</span>)       │                 │           │                 │\n",
       "├───────────────────┼─────────────────┼───────────┼─────────────────┤\n",
       "│ concatenate       │ (<span style=\"color: #00d7ff; text-decoration-color: #00d7ff\">None</span>, <span style=\"color: #00af00; text-decoration-color: #00af00\">55</span>, <span style=\"color: #00af00; text-decoration-color: #00af00\">256</span>) │         <span style=\"color: #00af00; text-decoration-color: #00af00\">0</span> │ repeat_vector[<span style=\"color: #00af00; text-decoration-color: #00af00\">…</span> │\n",
       "│ (<span style=\"color: #0087ff; text-decoration-color: #0087ff\">Concatenate</span>)     │                 │           │ token_embeddin… │\n",
       "├───────────────────┼─────────────────┼───────────┼─────────────────┤\n",
       "│ bidirectional_1   │ (<span style=\"color: #00d7ff; text-decoration-color: #00d7ff\">None</span>, <span style=\"color: #00af00; text-decoration-color: #00af00\">128</span>)     │   <span style=\"color: #00af00; text-decoration-color: #00af00\">164,352</span> │ concatenate[<span style=\"color: #00af00; text-decoration-color: #00af00\">0</span>]… │\n",
       "│ (<span style=\"color: #0087ff; text-decoration-color: #0087ff\">Bidirectional</span>)   │                 │           │                 │\n",
       "├───────────────────┼─────────────────┼───────────┼─────────────────┤\n",
       "│ dropout_1         │ (<span style=\"color: #00d7ff; text-decoration-color: #00d7ff\">None</span>, <span style=\"color: #00af00; text-decoration-color: #00af00\">128</span>)     │         <span style=\"color: #00af00; text-decoration-color: #00af00\">0</span> │ bidirectional_… │\n",
       "│ (<span style=\"color: #0087ff; text-decoration-color: #0087ff\">Dropout</span>)         │                 │           │                 │\n",
       "├───────────────────┼─────────────────┼───────────┼─────────────────┤\n",
       "│ dense_1 (<span style=\"color: #0087ff; text-decoration-color: #0087ff\">Dense</span>)   │ (<span style=\"color: #00d7ff; text-decoration-color: #00d7ff\">None</span>, <span style=\"color: #00af00; text-decoration-color: #00af00\">128</span>)     │    <span style=\"color: #00af00; text-decoration-color: #00af00\">16,512</span> │ dropout_1[<span style=\"color: #00af00; text-decoration-color: #00af00\">0</span>][<span style=\"color: #00af00; text-decoration-color: #00af00\">0</span>] │\n",
       "├───────────────────┼─────────────────┼───────────┼─────────────────┤\n",
       "│ dropout_2         │ (<span style=\"color: #00d7ff; text-decoration-color: #00d7ff\">None</span>, <span style=\"color: #00af00; text-decoration-color: #00af00\">128</span>)     │         <span style=\"color: #00af00; text-decoration-color: #00af00\">0</span> │ dense_1[<span style=\"color: #00af00; text-decoration-color: #00af00\">0</span>][<span style=\"color: #00af00; text-decoration-color: #00af00\">0</span>]   │\n",
       "│ (<span style=\"color: #0087ff; text-decoration-color: #0087ff\">Dropout</span>)         │                 │           │                 │\n",
       "├───────────────────┼─────────────────┼───────────┼─────────────────┤\n",
       "│ dense_2 (<span style=\"color: #0087ff; text-decoration-color: #0087ff\">Dense</span>)   │ (<span style=\"color: #00d7ff; text-decoration-color: #00d7ff\">None</span>, <span style=\"color: #00af00; text-decoration-color: #00af00\">5</span>)       │       <span style=\"color: #00af00; text-decoration-color: #00af00\">645</span> │ dropout_2[<span style=\"color: #00af00; text-decoration-color: #00af00\">0</span>][<span style=\"color: #00af00; text-decoration-color: #00af00\">0</span>] │\n",
       "└───────────────────┴─────────────────┴───────────┴─────────────────┘\n",
       "</pre>\n"
      ],
      "text/plain": [
       "┏━━━━━━━━━━━━━━━━━━━┳━━━━━━━━━━━━━━━━━┳━━━━━━━━━━━┳━━━━━━━━━━━━━━━━━┓\n",
       "┃\u001b[1m \u001b[0m\u001b[1mLayer (type)     \u001b[0m\u001b[1m \u001b[0m┃\u001b[1m \u001b[0m\u001b[1mOutput Shape   \u001b[0m\u001b[1m \u001b[0m┃\u001b[1m \u001b[0m\u001b[1m  Param #\u001b[0m\u001b[1m \u001b[0m┃\u001b[1m \u001b[0m\u001b[1mConnected to   \u001b[0m\u001b[1m \u001b[0m┃\n",
       "┡━━━━━━━━━━━━━━━━━━━╇━━━━━━━━━━━━━━━━━╇━━━━━━━━━━━╇━━━━━━━━━━━━━━━━━┩\n",
       "│ char_inputs       │ (\u001b[38;5;45mNone\u001b[0m, \u001b[38;5;34m1\u001b[0m)       │         \u001b[38;5;34m0\u001b[0m │ -               │\n",
       "│ (\u001b[38;5;33mInputLayer\u001b[0m)      │                 │           │                 │\n",
       "├───────────────────┼─────────────────┼───────────┼─────────────────┤\n",
       "│ vectorizer_layer  │ (\u001b[38;5;45mNone\u001b[0m, \u001b[38;5;34m290\u001b[0m)     │         \u001b[38;5;34m0\u001b[0m │ char_inputs[\u001b[38;5;34m0\u001b[0m]… │\n",
       "│ (\u001b[38;5;33mTextVectorizati…\u001b[0m │                 │           │                 │\n",
       "├───────────────────┼─────────────────┼───────────┼─────────────────┤\n",
       "│ char_embedding_l… │ (\u001b[38;5;45mNone\u001b[0m, \u001b[38;5;34m290\u001b[0m, \u001b[38;5;34m25\u001b[0m) │     \u001b[38;5;34m1,750\u001b[0m │ vectorizer_lay… │\n",
       "│ (\u001b[38;5;33mEmbedding\u001b[0m)       │                 │           │                 │\n",
       "├───────────────────┼─────────────────┼───────────┼─────────────────┤\n",
       "│ bidirectional     │ (\u001b[38;5;45mNone\u001b[0m, \u001b[38;5;34m128\u001b[0m)     │    \u001b[38;5;34m46,080\u001b[0m │ char_embedding… │\n",
       "│ (\u001b[38;5;33mBidirectional\u001b[0m)   │                 │           │                 │\n",
       "├───────────────────┼─────────────────┼───────────┼─────────────────┤\n",
       "│ dense (\u001b[38;5;33mDense\u001b[0m)     │ (\u001b[38;5;45mNone\u001b[0m, \u001b[38;5;34m128\u001b[0m)     │    \u001b[38;5;34m16,512\u001b[0m │ bidirectional[\u001b[38;5;34m…\u001b[0m │\n",
       "├───────────────────┼─────────────────┼───────────┼─────────────────┤\n",
       "│ token_inputs      │ (\u001b[38;5;45mNone\u001b[0m, \u001b[38;5;34m1\u001b[0m)       │         \u001b[38;5;34m0\u001b[0m │ -               │\n",
       "│ (\u001b[38;5;33mInputLayer\u001b[0m)      │                 │           │                 │\n",
       "├───────────────────┼─────────────────┼───────────┼─────────────────┤\n",
       "│ dropout (\u001b[38;5;33mDropout\u001b[0m) │ (\u001b[38;5;45mNone\u001b[0m, \u001b[38;5;34m128\u001b[0m)     │         \u001b[38;5;34m0\u001b[0m │ dense[\u001b[38;5;34m0\u001b[0m][\u001b[38;5;34m0\u001b[0m]     │\n",
       "├───────────────────┼─────────────────┼───────────┼─────────────────┤\n",
       "│ token_vectorizat… │ (\u001b[38;5;45mNone\u001b[0m, \u001b[38;5;34m55\u001b[0m)      │         \u001b[38;5;34m0\u001b[0m │ token_inputs[\u001b[38;5;34m0\u001b[0m… │\n",
       "│ (\u001b[38;5;33mTextVectorizati…\u001b[0m │                 │           │                 │\n",
       "├───────────────────┼─────────────────┼───────────┼─────────────────┤\n",
       "│ repeat_vector     │ (\u001b[38;5;45mNone\u001b[0m, \u001b[38;5;34m55\u001b[0m, \u001b[38;5;34m128\u001b[0m) │         \u001b[38;5;34m0\u001b[0m │ dropout[\u001b[38;5;34m0\u001b[0m][\u001b[38;5;34m0\u001b[0m]   │\n",
       "│ (\u001b[38;5;33mRepeatVector\u001b[0m)    │                 │           │                 │\n",
       "├───────────────────┼─────────────────┼───────────┼─────────────────┤\n",
       "│ token_embedding_… │ (\u001b[38;5;45mNone\u001b[0m, \u001b[38;5;34m55\u001b[0m, \u001b[38;5;34m128\u001b[0m) │ \u001b[38;5;34m8,299,648\u001b[0m │ token_vectoriz… │\n",
       "│ (\u001b[38;5;33mEmbedding\u001b[0m)       │                 │           │                 │\n",
       "├───────────────────┼─────────────────┼───────────┼─────────────────┤\n",
       "│ concatenate       │ (\u001b[38;5;45mNone\u001b[0m, \u001b[38;5;34m55\u001b[0m, \u001b[38;5;34m256\u001b[0m) │         \u001b[38;5;34m0\u001b[0m │ repeat_vector[\u001b[38;5;34m…\u001b[0m │\n",
       "│ (\u001b[38;5;33mConcatenate\u001b[0m)     │                 │           │ token_embeddin… │\n",
       "├───────────────────┼─────────────────┼───────────┼─────────────────┤\n",
       "│ bidirectional_1   │ (\u001b[38;5;45mNone\u001b[0m, \u001b[38;5;34m128\u001b[0m)     │   \u001b[38;5;34m164,352\u001b[0m │ concatenate[\u001b[38;5;34m0\u001b[0m]… │\n",
       "│ (\u001b[38;5;33mBidirectional\u001b[0m)   │                 │           │                 │\n",
       "├───────────────────┼─────────────────┼───────────┼─────────────────┤\n",
       "│ dropout_1         │ (\u001b[38;5;45mNone\u001b[0m, \u001b[38;5;34m128\u001b[0m)     │         \u001b[38;5;34m0\u001b[0m │ bidirectional_… │\n",
       "│ (\u001b[38;5;33mDropout\u001b[0m)         │                 │           │                 │\n",
       "├───────────────────┼─────────────────┼───────────┼─────────────────┤\n",
       "│ dense_1 (\u001b[38;5;33mDense\u001b[0m)   │ (\u001b[38;5;45mNone\u001b[0m, \u001b[38;5;34m128\u001b[0m)     │    \u001b[38;5;34m16,512\u001b[0m │ dropout_1[\u001b[38;5;34m0\u001b[0m][\u001b[38;5;34m0\u001b[0m] │\n",
       "├───────────────────┼─────────────────┼───────────┼─────────────────┤\n",
       "│ dropout_2         │ (\u001b[38;5;45mNone\u001b[0m, \u001b[38;5;34m128\u001b[0m)     │         \u001b[38;5;34m0\u001b[0m │ dense_1[\u001b[38;5;34m0\u001b[0m][\u001b[38;5;34m0\u001b[0m]   │\n",
       "│ (\u001b[38;5;33mDropout\u001b[0m)         │                 │           │                 │\n",
       "├───────────────────┼─────────────────┼───────────┼─────────────────┤\n",
       "│ dense_2 (\u001b[38;5;33mDense\u001b[0m)   │ (\u001b[38;5;45mNone\u001b[0m, \u001b[38;5;34m5\u001b[0m)       │       \u001b[38;5;34m645\u001b[0m │ dropout_2[\u001b[38;5;34m0\u001b[0m][\u001b[38;5;34m0\u001b[0m] │\n",
       "└───────────────────┴─────────────────┴───────────┴─────────────────┘\n"
      ]
     },
     "metadata": {},
     "output_type": "display_data"
    },
    {
     "data": {
      "text/html": [
       "<pre style=\"white-space:pre;overflow-x:auto;line-height:normal;font-family:Menlo,'DejaVu Sans Mono',consolas,'Courier New',monospace\"><span style=\"font-weight: bold\"> Total params: </span><span style=\"color: #00af00; text-decoration-color: #00af00\">8,545,499</span> (32.60 MB)\n",
       "</pre>\n"
      ],
      "text/plain": [
       "\u001b[1m Total params: \u001b[0m\u001b[38;5;34m8,545,499\u001b[0m (32.60 MB)\n"
      ]
     },
     "metadata": {},
     "output_type": "display_data"
    },
    {
     "data": {
      "text/html": [
       "<pre style=\"white-space:pre;overflow-x:auto;line-height:normal;font-family:Menlo,'DejaVu Sans Mono',consolas,'Courier New',monospace\"><span style=\"font-weight: bold\"> Trainable params: </span><span style=\"color: #00af00; text-decoration-color: #00af00\">8,545,499</span> (32.60 MB)\n",
       "</pre>\n"
      ],
      "text/plain": [
       "\u001b[1m Trainable params: \u001b[0m\u001b[38;5;34m8,545,499\u001b[0m (32.60 MB)\n"
      ]
     },
     "metadata": {},
     "output_type": "display_data"
    },
    {
     "data": {
      "text/html": [
       "<pre style=\"white-space:pre;overflow-x:auto;line-height:normal;font-family:Menlo,'DejaVu Sans Mono',consolas,'Courier New',monospace\"><span style=\"font-weight: bold\"> Non-trainable params: </span><span style=\"color: #00af00; text-decoration-color: #00af00\">0</span> (0.00 B)\n",
       "</pre>\n"
      ],
      "text/plain": [
       "\u001b[1m Non-trainable params: \u001b[0m\u001b[38;5;34m0\u001b[0m (0.00 B)\n"
      ]
     },
     "metadata": {},
     "output_type": "display_data"
    }
   ],
   "source": [
    "model.summary()"
   ]
  },
  {
   "cell_type": "code",
   "execution_count": 32,
   "metadata": {
    "executionInfo": {
     "elapsed": 414,
     "status": "ok",
     "timestamp": 1723649603665,
     "user": {
      "displayName": "Nitesh Choudhary",
      "userId": "16792016180888350992"
     },
     "user_tz": 420
    },
    "id": "vFMr2aNfKaXk"
   },
   "outputs": [],
   "source": [
    "model.compile(loss=tf.keras.losses.CategoricalCrossentropy(),\n",
    "              optimizer=tf.keras.optimizers.Adam(),\n",
    "              metrics = [\"accuracy\"])"
   ]
  },
  {
   "cell_type": "code",
   "execution_count": 33,
   "metadata": {
    "colab": {
     "base_uri": "https://localhost:8080/"
    },
    "id": "Zts3m0WdKqDV",
    "outputId": "eeabda2a-3393-42e4-cfcd-00e1e03ca5b0"
   },
   "outputs": [
    {
     "name": "stdout",
     "output_type": "stream",
     "text": [
      "Epoch 1/3\n",
      "\u001b[1m5627/5627\u001b[0m \u001b[32m━━━━━━━━━━━━━━━━━━━━\u001b[0m\u001b[37m\u001b[0m \u001b[1m2244s\u001b[0m 396ms/step - accuracy: 0.7366 - loss: 0.6897 - val_accuracy: 0.8251 - val_loss: 0.4672\n",
      "Epoch 2/3\n",
      "\u001b[1m5627/5627\u001b[0m \u001b[32m━━━━━━━━━━━━━━━━━━━━\u001b[0m\u001b[37m\u001b[0m \u001b[1m2047s\u001b[0m 364ms/step - accuracy: 0.8529 - loss: 0.4102 - val_accuracy: 0.8277 - val_loss: 0.4666\n",
      "Epoch 3/3\n",
      "\u001b[1m5627/5627\u001b[0m \u001b[32m━━━━━━━━━━━━━━━━━━━━\u001b[0m\u001b[37m\u001b[0m \u001b[1m2132s\u001b[0m 379ms/step - accuracy: 0.8880 - loss: 0.3152 - val_accuracy: 0.8211 - val_loss: 0.4994\n"
     ]
    }
   ],
   "source": [
    "history = model.fit(train_dataset,epochs=3,validation_data=val_dataset)"
   ]
  },
  {
   "cell_type": "code",
   "execution_count": 37,
   "metadata": {
    "colab": {
     "base_uri": "https://localhost:8080/",
     "height": 34
    },
    "executionInfo": {
     "elapsed": 847,
     "status": "ok",
     "timestamp": 1723648867747,
     "user": {
      "displayName": "Nitesh Choudhary",
      "userId": "16792016180888350992"
     },
     "user_tz": 420
    },
    "id": "zpTCsH9qcXbT",
    "outputId": "17c24ac5-8fcd-418b-9557-998f7d2fbd68"
   },
   "outputs": [
    {
     "name": "stdout",
     "output_type": "stream",
     "text": [
      "\u001b[1m945/945\u001b[0m \u001b[32m━━━━━━━━━━━━━━━━━━━━\u001b[0m\u001b[37m\u001b[0m \u001b[1m48s\u001b[0m 51ms/step - accuracy: 0.8226 - loss: 0.4912\n"
     ]
    },
    {
     "data": {
      "text/plain": [
       "[0.499352365732193, 0.8211306929588318]"
      ]
     },
     "execution_count": 37,
     "metadata": {},
     "output_type": "execute_result"
    }
   ],
   "source": [
    "model.evaluate(val_dataset)"
   ]
  },
  {
   "cell_type": "code",
   "execution_count": 39,
   "metadata": {
    "id": "SJO5qeHGp8Op"
   },
   "outputs": [
    {
     "name": "stdout",
     "output_type": "stream",
     "text": [
      "\u001b[1m942/942\u001b[0m \u001b[32m━━━━━━━━━━━━━━━━━━━━\u001b[0m\u001b[37m\u001b[0m \u001b[1m49s\u001b[0m 51ms/step\n"
     ]
    },
    {
     "data": {
      "text/plain": [
       "array([[3.7550986e-01, 4.0832805e-03, 1.7416310e-02, 6.0059392e-01,\n",
       "        2.3965756e-03],\n",
       "       [7.0552863e-03, 3.8904885e-03, 8.3491600e-01, 1.7232835e-02,\n",
       "        1.3690546e-01],\n",
       "       [3.5880232e-04, 1.5000078e-04, 9.3031693e-01, 1.0292960e-03,\n",
       "        6.8144910e-02],\n",
       "       ...,\n",
       "       [7.2410490e-05, 1.5326949e-02, 1.9100115e-03, 1.7830076e-05,\n",
       "        9.8267281e-01],\n",
       "       [5.3118579e-03, 6.6231996e-02, 3.0175647e-02, 9.7603985e-04,\n",
       "        8.9730448e-01],\n",
       "       [5.5380253e-04, 2.9181904e-01, 2.7990253e-03, 2.2617124e-04,\n",
       "        7.0460194e-01]], dtype=float32)"
      ]
     },
     "execution_count": 39,
     "metadata": {},
     "output_type": "execute_result"
    }
   ],
   "source": [
    "prediction_dataset = tf.data.Dataset.from_tensor_slices(\n",
    "    {\"char_inputs\": test_chars, \"token_inputs\": x_test}\n",
    ")\n",
    "\n",
    "# Batch and prefetch as done during training\n",
    "prediction_dataset = prediction_dataset.batch(32).prefetch(tf.data.AUTOTUNE)\n",
    "pred = model.predict(prediction_dataset)\n",
    "pred"
   ]
  },
  {
   "cell_type": "code",
   "execution_count": 45,
   "metadata": {},
   "outputs": [
    {
     "data": {
      "text/plain": [
       "<tf.Tensor: shape=(30135,), dtype=int64, numpy=array([3, 2, 2, ..., 4, 4, 4], dtype=int64)>"
      ]
     },
     "execution_count": 45,
     "metadata": {},
     "output_type": "execute_result"
    }
   ],
   "source": [
    "y_pred = tf.argmax(pred,axis=1)\n",
    "y_pred[:]"
   ]
  },
  {
   "cell_type": "code",
   "execution_count": 49,
   "metadata": {},
   "outputs": [
    {
     "data": {
      "text/plain": [
       "(30135,)"
      ]
     },
     "execution_count": 49,
     "metadata": {},
     "output_type": "execute_result"
    }
   ],
   "source": [
    "test_labels.shape"
   ]
  },
  {
   "cell_type": "code",
   "execution_count": 50,
   "metadata": {},
   "outputs": [],
   "source": [
    "model_results = calculate_result(test_labels,y_pred)"
   ]
  },
  {
   "cell_type": "code",
   "execution_count": 51,
   "metadata": {},
   "outputs": [
    {
     "data": {
      "text/plain": [
       "{'accuracy': 81.53973784635805,\n",
       " 'precision_score': 81.39754248519799,\n",
       " 'recall_score': 81.53973784635805,\n",
       " 'f1_score': 81.44308363671693}"
      ]
     },
     "execution_count": 51,
     "metadata": {},
     "output_type": "execute_result"
    }
   ],
   "source": [
    "model_results"
   ]
  },
  {
   "cell_type": "code",
   "execution_count": 54,
   "metadata": {},
   "outputs": [
    {
     "data": {
      "text/html": [
       "<div>\n",
       "<style scoped>\n",
       "    .dataframe tbody tr th:only-of-type {\n",
       "        vertical-align: middle;\n",
       "    }\n",
       "\n",
       "    .dataframe tbody tr th {\n",
       "        vertical-align: top;\n",
       "    }\n",
       "\n",
       "    .dataframe thead th {\n",
       "        text-align: right;\n",
       "    }\n",
       "</style>\n",
       "<table border=\"1\" class=\"dataframe\">\n",
       "  <thead>\n",
       "    <tr style=\"text-align: right;\">\n",
       "      <th></th>\n",
       "      <th>OBJECTIVE</th>\n",
       "      <th>METHODS</th>\n",
       "      <th>RESULTS</th>\n",
       "      <th>CONCLUSIONS</th>\n",
       "      <th>BACKGROUND</th>\n",
       "    </tr>\n",
       "  </thead>\n",
       "  <tbody>\n",
       "    <tr>\n",
       "      <th>OBJECTIVE</th>\n",
       "      <td>2252</td>\n",
       "      <td>418</td>\n",
       "      <td>198</td>\n",
       "      <td>718</td>\n",
       "      <td>35</td>\n",
       "    </tr>\n",
       "    <tr>\n",
       "      <th>METHODS</th>\n",
       "      <td>454</td>\n",
       "      <td>3293</td>\n",
       "      <td>128</td>\n",
       "      <td>86</td>\n",
       "      <td>610</td>\n",
       "    </tr>\n",
       "    <tr>\n",
       "      <th>RESULTS</th>\n",
       "      <td>131</td>\n",
       "      <td>66</td>\n",
       "      <td>9041</td>\n",
       "      <td>121</td>\n",
       "      <td>538</td>\n",
       "    </tr>\n",
       "    <tr>\n",
       "      <th>CONCLUSIONS</th>\n",
       "      <td>605</td>\n",
       "      <td>121</td>\n",
       "      <td>118</td>\n",
       "      <td>1473</td>\n",
       "      <td>16</td>\n",
       "    </tr>\n",
       "    <tr>\n",
       "      <th>BACKGROUND</th>\n",
       "      <td>43</td>\n",
       "      <td>379</td>\n",
       "      <td>761</td>\n",
       "      <td>17</td>\n",
       "      <td>8513</td>\n",
       "    </tr>\n",
       "  </tbody>\n",
       "</table>\n",
       "</div>"
      ],
      "text/plain": [
       "             OBJECTIVE  METHODS  RESULTS  CONCLUSIONS  BACKGROUND\n",
       "OBJECTIVE         2252      418      198          718          35\n",
       "METHODS            454     3293      128           86         610\n",
       "RESULTS            131       66     9041          121         538\n",
       "CONCLUSIONS        605      121      118         1473          16\n",
       "BACKGROUND          43      379      761           17        8513"
      ]
     },
     "execution_count": 54,
     "metadata": {},
     "output_type": "execute_result"
    }
   ],
   "source": [
    "from sklearn.metrics import confusion_matrix\n",
    "import pandas as pd\n",
    "conf_matrix = confusion_matrix(test_labels,y_pred)\n",
    "df = pd.DataFrame(conf_matrix,columns=['OBJECTIVE', 'METHODS', 'RESULTS', 'CONCLUSIONS', 'BACKGROUND'],index=['OBJECTIVE', 'METHODS', 'RESULTS', 'CONCLUSIONS', 'BACKGROUND'])\n",
    "df"
   ]
  },
  {
   "cell_type": "code",
   "execution_count": 38,
   "metadata": {},
   "outputs": [
    {
     "name": "stderr",
     "output_type": "stream",
     "text": [
      "WARNING:absl:You are saving your model as an HDF5 file via `model.save()` or `keras.saving.save_model(model)`. This file format is considered legacy. We recommend using instead the native Keras format, e.g. `model.save('my_model.keras')` or `keras.saving.save_model(model, 'my_model.keras')`. \n"
     ]
    }
   ],
   "source": [
    "model.save(\"Skimlit_project_model.h5\")"
   ]
  },
  {
   "cell_type": "code",
   "execution_count": 55,
   "metadata": {},
   "outputs": [],
   "source": [
    "import pickle\n",
    "\n",
    "# Save vocab for the character vectorizer\n",
    "char_vocab = char_vectorizer.get_vocabulary()\n",
    "with open('char_vocab.pkl', 'wb') as f:\n",
    "    pickle.dump(char_vocab, f)\n",
    "\n",
    "# Save vocab for the token vectorizer\n",
    "token_vocab = token_vectorizer.get_vocabulary()\n",
    "with open('token_vocab.pkl', 'wb') as f:\n",
    "    pickle.dump(token_vocab, f)"
   ]
  }
 ],
 "metadata": {
  "accelerator": "TPU",
  "colab": {
   "authorship_tag": "ABX9TyMlpvPYz1gBCTkoV2aeZU1i",
   "gpuType": "V28",
   "mount_file_id": "1cZXAA-S49ZyqzktM0VrYB01iv2IitLzQ",
   "provenance": []
  },
  "kernelspec": {
   "display_name": "Python 3 (ipykernel)",
   "language": "python",
   "name": "python3"
  },
  "language_info": {
   "codemirror_mode": {
    "name": "ipython",
    "version": 3
   },
   "file_extension": ".py",
   "mimetype": "text/x-python",
   "name": "python",
   "nbconvert_exporter": "python",
   "pygments_lexer": "ipython3",
   "version": "3.9.13"
  }
 },
 "nbformat": 4,
 "nbformat_minor": 4
}
